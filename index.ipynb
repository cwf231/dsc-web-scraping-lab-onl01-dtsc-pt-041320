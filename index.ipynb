{
 "cells": [
  {
   "cell_type": "markdown",
   "metadata": {},
   "source": [
    "# Web Scraping - Lab\n",
    "\n",
    "## Introduction\n",
    "\n",
    "Now that you've seen a more extensive example of developing a web scraping script, it's time to further practice and formalize that knowledge by writing functions to parse specific pieces of information from the web page and then synthesizing these into a larger loop that will iterate over successive web pages in order to build a complete dataset.\n",
    "\n",
    "## Objectives\n",
    "\n",
    "You will be able to:\n",
    "\n",
    "* Navigate HTML documents using Beautiful Soup's children and sibling relations\n",
    "* Select specific elements from HTML using Beautiful Soup\n",
    "* Use regular expressions to extract items with a certain pattern within Beautiful Soup\n",
    "* Determine the pagination scheme of a website and scrape multiple pages"
   ]
  },
  {
   "cell_type": "markdown",
   "metadata": {},
   "source": [
    "## Lab Overview\n",
    "\n",
    "This lab will build upon the previous lesson. In the end, you'll look to write a script that will iterate over all of the pages for the demo site and extract the title, price, star rating and availability of each book listed. Building up to that, you'll formalize the concepts from the lesson by writing functions that will extract a list of each of these features for each web page. You'll then combine these functions into the full script which will look something like this:  \n",
    "\n",
    "```python\n",
    "df = pd.DataFrame()\n",
    "for i in range(2,51):\n",
    "    url = \"http://books.toscrape.com/catalogue/page-{}.html\".format(i)\n",
    "    soup = BeautifulSoup(html_page.content, 'html.parser')\n",
    "    new_titles = retrieve_titles(soup)\n",
    "    new_star_ratings = retrieve_ratings(soup)\n",
    "    new_prices = retrieve_prices(soup)\n",
    "    new_avails = retrieve_avails(soup)\n",
    "    ...\n",
    " ```"
   ]
  },
  {
   "cell_type": "markdown",
   "metadata": {},
   "source": [
    "## Retrieving Titles\n",
    "\n",
    "To start, write a function that extracts the titles of the books on a given page. The input for the function should be the `soup` for the HTML of the page."
   ]
  },
  {
   "cell_type": "markdown",
   "metadata": {},
   "source": [
    "## Retrieve Ratings\n",
    "\n",
    "Next, write a similar function to retrieve the star ratings on a given page. Again, the function should take in the `soup` from the given HTML page and return a list of the star ratings for the books. These star ratings should be formatted as integers."
   ]
  },
  {
   "cell_type": "markdown",
   "metadata": {},
   "source": [
    "## Retrieve Prices\n",
    "\n",
    "Now write a function to retrieve the prices on a given page. The function should take in the `soup` from the given page and return a list of prices formatted as floats."
   ]
  },
  {
   "cell_type": "markdown",
   "metadata": {},
   "source": [
    "## Retrieve Availability\n",
    "\n",
    "Write a function to retrieve whether each book is available or not. The function should take in the `soup` from a given html page and return a list of the availability for each book."
   ]
  },
  {
   "cell_type": "markdown",
   "metadata": {},
   "source": [
    "## Create a Script to Retrieve All the Books From All 50 Pages\n",
    "\n",
    "Finally, write a script to retrieve all of the information from all 50 pages of the books.toscrape.com website. "
   ]
  },
  {
   "cell_type": "markdown",
   "metadata": {},
   "source": [
    "## Level-Up: Write a new version of the script you just wrote. \n",
    "\n",
    "If you used URL hacking to generate each successive page URL, instead write a function that retrieves the link from the `\"next\"` button at the bottom of the page. Conversely, if you already used this approach above, use URL-hacking (arguably the easier of the two methods in this case)."
   ]
  },
  {
   "cell_type": "code",
   "execution_count": 1,
   "metadata": {},
   "outputs": [],
   "source": [
    "import pandas as pd\n",
    "import requests\n",
    "import re\n",
    "from bs4 import BeautifulSoup\n",
    "\n",
    "\n",
    "def get_book_container(soup):\n",
    "    warning = soup.find('div', class_='alert alert-warning')\n",
    "    return warning.nextSibling.nextSibling\n",
    "\n",
    "\n",
    "def get_titles(book_container):\n",
    "    return [row.find('a')['title'] for row \n",
    "            in book_container.findAll('h3')]\n",
    "\n",
    "\n",
    "def get_ratings(book_container):\n",
    "    regex = re.compile(\"^star-rating\")\n",
    "    ratings = [each['class'][-1] for each \n",
    "               in book_container.findAll('p', {'class': regex})]\n",
    "    \n",
    "    rating_dct = {\n",
    "        'One': 1, 'Two': 2, 'Three':3, 'Four': 4, 'Five':5\n",
    "    }\n",
    "    \n",
    "    return [rating_dct[rating] for rating in ratings]\n",
    "\n",
    "\n",
    "def get_prices(book_container):\n",
    "    return [float(each.text[1:]) for each \n",
    "            in book_container.findAll('p', class_='price_color')]\n",
    "\n",
    "\n",
    "def get_avail(book_container):\n",
    "    return [each.text.strip() for each \n",
    "            in book_container.findAll('p', class_='instock availability')]\n",
    "\n",
    "\n",
    "def concat_df_lst(df_lst):\n",
    "    big_df = pd.concat(df_lst)\n",
    "    for col in big_df.columns:\n",
    "        big_df[col] = pd.to_numeric(big_df[col], errors='ignore')\n",
    "    return big_df\n",
    "    \n",
    "\n",
    "def create_df():\n",
    "    print('Working...')\n",
    "    counter = 0\n",
    "    new_tag = ''\n",
    "    df_lst = []\n",
    "    \n",
    "    while True:\n",
    "        url = 'http://books.toscrape.com/'\n",
    "        url += new_tag\n",
    "        \n",
    "        counter += 1\n",
    "\n",
    "        req_get = requests.get(url)\n",
    "        soup_curr = BeautifulSoup(req_get.content, 'html')\n",
    "        \n",
    "        book_container = get_book_container(soup_curr)\n",
    "        \n",
    "        titles = get_titles(book_container)\n",
    "        ratings = get_ratings(book_container)\n",
    "        prices = get_prices(book_container)\n",
    "        avail = get_avail(book_container)\n",
    "        \n",
    "        df= pd.DataFrame([titles, ratings, prices, avail]).transpose()\n",
    "        df.columns = ['title', 'rating', 'price_pounds', 'avail']\n",
    "        df_lst.append(df)\n",
    "        \n",
    "        try:\n",
    "            new_tag = soup_curr.find('li', class_='next').find('a')['href']\n",
    "        except AttributeError:\n",
    "            print(f'Completed with {counter} pages.')\n",
    "            df = concat_df_lst(df_lst)\n",
    "            print('DataFrame Shape:', df.shape)\n",
    "            return df\n",
    "        \n",
    "        if 'catalogue' not in new_tag:\n",
    "            new_tag = 'catalogue/' + new_tag"
   ]
  },
  {
   "cell_type": "code",
   "execution_count": 2,
   "metadata": {},
   "outputs": [
    {
     "name": "stdout",
     "output_type": "stream",
     "text": [
      "Working...\n",
      "Completed with 50 pages.\n",
      "DataFrame Shape: (1000, 4)\n"
     ]
    }
   ],
   "source": [
    "df = create_df()"
   ]
  },
  {
   "cell_type": "code",
   "execution_count": 3,
   "metadata": {},
   "outputs": [
    {
     "name": "stdout",
     "output_type": "stream",
     "text": [
      "<class 'pandas.core.frame.DataFrame'>\n",
      "Int64Index: 1000 entries, 0 to 19\n",
      "Data columns (total 4 columns):\n",
      " #   Column        Non-Null Count  Dtype  \n",
      "---  ------        --------------  -----  \n",
      " 0   title         1000 non-null   object \n",
      " 1   rating        1000 non-null   int64  \n",
      " 2   price_pounds  1000 non-null   float64\n",
      " 3   avail         1000 non-null   object \n",
      "dtypes: float64(1), int64(1), object(2)\n",
      "memory usage: 39.1+ KB\n"
     ]
    }
   ],
   "source": [
    "df.info()"
   ]
  },
  {
   "cell_type": "markdown",
   "metadata": {},
   "source": [
    "## Summary\n",
    "\n",
    "Well done! You just completed your first full web scraping project! You're ready to start harnessing the power of the web!"
   ]
  }
 ],
 "metadata": {
  "kernelspec": {
   "display_name": "Python 3",
   "language": "python",
   "name": "python3"
  },
  "language_info": {
   "codemirror_mode": {
    "name": "ipython",
    "version": 3
   },
   "file_extension": ".py",
   "mimetype": "text/x-python",
   "name": "python",
   "nbconvert_exporter": "python",
   "pygments_lexer": "ipython3",
   "version": "3.6.9"
  },
  "toc": {
   "base_numbering": 1,
   "nav_menu": {},
   "number_sections": true,
   "sideBar": true,
   "skip_h1_title": false,
   "title_cell": "Table of Contents",
   "title_sidebar": "Contents",
   "toc_cell": false,
   "toc_position": {},
   "toc_section_display": true,
   "toc_window_display": false
  }
 },
 "nbformat": 4,
 "nbformat_minor": 2
}
